{
 "cells": [
  {
   "cell_type": "markdown",
   "metadata": {},
   "source": [
    "# Lab 2 - Exploring Electric Fields and Electric Potentials\n",
    "Version: January 2024\n",
    "\n",
    "## Quick math review\n",
    "\n",
    "An Electric Field $\\vec{E}(\\vec{p})$ assigns a *vector* to each point $\\vec{p}$ in space.  If you pick a Cartesian coordinate system for example, then:\n",
    "\n",
    "$$\\vec{E}(x,y,z)=\\left(E_x(x,y,z),\\;E_y(x,y,z),\\;E_z(x,y,z)\\right)$$\n",
    "\n",
    "Where (x,y,z) is a particular point in space, so that $E_x$, $E_y$, and $E_z$ are the magnitudes of the components of the field at that point and together tell you what direction the $\\vec{E}$ arrow will point at that spot.  This is often abbreviated by calling (x,y,z) the position vector $\\vec{r}$,  so that $\\vec{E}(\\vec{r})=\\left(E_x(\\vec{r}), E_y(\\vec{r}), E_z(\\vec{r})  \\right)$.\n",
    "\n",
    "Of course, if you happen to be studying a system where the $z$ direction isn't important (e.g. if the field has no z component, as in the case with an infinitely long charged cylinder), then everything of interest just takes place in the x-y plane:\n",
    "\n",
    "$$\\vec{E}(x,y)=\\left(E_x(x,y),\\;E_y(x,y)\\right)$$\n",
    "\n",
    "Rather simpler is the idea of a scalar field, which assigns to each point in space a single value (essentially, a scalar field is a function):\n",
    "\n",
    "$$ V(\\vec{p}) = V(x,y,z) \\;\\;\\;\\text{(cartesian coordinates)} $$\n",
    "\n",
    "The *electric potential*, which you may not have studied yet in lecture (but which we can easily give you the tools to visualize with Python without yet knowing the detailed physics), is such a scalar field, and it turns out to have a beautiful relationship with electric fields:\n",
    "\n",
    "$$ \\vec{E}(\\vec{p}) = -\\nabla V(\\vec{p})\\;\\;=-\\left(\\frac{\\partial V}{\\partial x},\\;\\frac{\\partial V}{\\partial y},\\;\\frac{\\partial V}{\\partial z}\\right) = -\\hat{\\boldsymbol{i}}\\frac{\\partial V}{\\partial x}-\\hat{\\boldsymbol{j}}\\frac{\\partial V}{\\partial y}-\\hat{\\boldsymbol{k}}\\frac{\\partial V}{\\partial z}$$\n",
    "\n",
    "Where the $\\nabla$ symbol denotes the operation of the *gradient*.\n",
    "\n",
    "The easiest way to think about a scalar field is to think of the two dimensional situation $V(x,y)$ where the function V of (x,y) is a surface or \"landscape\", where each point (x,y) has some \"height\" associated with it.  Points where the scalar field has a greater value are \"higher up\" than points where it has a lower value, and since (for physics) we require that the field changes smoothly anywhere there are no charges, it may tend to look rather like hills and valleys.  \n",
    "\n",
    "If you think of hiking in the mountains, if you hike along a path of equal elevation, you will go neither up nor down -- in essence that will be following a **contour** on the landscape, and likewise we can visualize contours of scalar fields -- lines which connect points where the field has an equal value.\n",
    "\n",
    "The negative gradient turns out to have a nice meaning in this metaphor.  If you happen to be carrying a soccer ball with you as you hike in the mountains, then if you drop the ball it will roll down the hill along the line of *steepest descent*.  In essence, the net force it will feel is a vector that points in the steepest direction down the hill, and that turns out to be precisely what the negative gradient of a scalar field will give you!\n",
    "\n"
   ]
  },
  {
   "cell_type": "code",
   "execution_count": 79,
   "metadata": {},
   "outputs": [],
   "source": [
    "# Standard packages we always use\n",
    "import numpy as np\n",
    "import matplotlib.pyplot as plt\n",
    "import matplotlib.markers as markers\n",
    "# To create 3D visualizations we'll use Axes3D like so:\n",
    "from mpl_toolkits.mplot3d import Axes3D\n",
    "\n",
    "#For Big Plots,  run \"bigplot()\" before your plot command.\n",
    "def bigplot():\n",
    "    plt.figure(dpi=200)\n"
   ]
  },
  {
   "cell_type": "markdown",
   "metadata": {},
   "source": [
    "---\n"
   ]
  },
  {
   "cell_type": "markdown",
   "metadata": {},
   "source": [
    "# Code Tutorial: Creating a class to store point-charge data\n",
    "\n",
    "We will discuss the concept of a **class** and the basics of object-oriented programming at the start of today's session.  The example code below shows how it works.\n",
    "\n",
    "Classes are a very useful way to organize information, and are the core of the paradigm called '*object-oriented programming'* (OOP). In this paradigm, classes are the 'code objects' that a programmer creates to store and organize data for a particular task, and operate on that data.  A complex computer program usually consists of many different classes, each for a different purpose, and all working together to make the program happen. \n",
    "\n",
    "Today we will be defining a very basic class to help us organize information in a coherent way for the purposes of numerically calculating potentials and fields.  \n",
    "\n",
    "### DEFINING A NEW CLASS (data type)\n",
    "\n",
    "A **class definition** (below) is a kind of template for what you can think of as a *new datatype, one that we define for ourselves*.  Our new datatype is composed of multiple pieces of data which are all kept together under one \"roof\". Class definitions tell Python what to expect the new data type to contain, and give this new data type a name.\n",
    "\n",
    "Classes can also have functions that belong to them and operate on the data they contain!  Each function needs to include \"`self`\" as an input variable, which tells Python that the function belongs to the class.  Each class has a *special* function that begins and ends with double underscores, called `__init__(self)`.  This special function is called *right away* when a new variable (\"instance\") of the datatype of your class has been created.  \n",
    "\n",
    "Class definitions are templates for creating **instances** of the class.  As indicated above, an instance is a new variable that has a datatype of the class.  In other words, the \"template\" used to define the variable is the class definition, so it has that datatype.  We will demonstrate this below.\n",
    "\n",
    "### PointCharge\n",
    "\n",
    "To simulate electric fields and potentials, we will define a new class that stores all the necessary information that characterizes a point charge.  Then we can create as many unique charges as we like - each will be an *instance* of our PointCharge class.  We can use these charges to calculate and model electric fields.\n",
    "\n",
    "The definition below tells Python what a \"`PointCharge`\" will contain. Our 'new data type', our class, contains three pieces of data.  Each new \"PointCharge\" will represent a different charge in space, housing a position and a charge value within itself!"
   ]
  },
  {
   "cell_type": "code",
   "execution_count": 3,
   "metadata": {},
   "outputs": [],
   "source": [
    "#Define a new class (DATA TYPE) called \"PointCharge\" which can\n",
    "\n",
    "class PointCharge:\n",
    "    # The __init__(self) function is called AUTOMATICALLY when a new instance of the class is created.\n",
    "    # Here we are telling Python that when creating a charge, we'll pass in 3 pieces of information:  initial x, y, and q values \n",
    "    # for the new charge.\n",
    "    def __init__(self, initialx, initialy, initialq):\n",
    "        #PointCharge has three internal values: x, y, and q.  These are given\n",
    "        # initial values using our __init__ function.  See next code cell.\n",
    "        self.x = initialx\n",
    "        self.y = initialy\n",
    "        self.q = initialq\n",
    "\n",
    "    # nice printing:\n",
    "    def __repr__(self):\n",
    "        return f\"Q({self.x}m, {self.y}m, {self.q}C)\"\n",
    "    "
   ]
  },
  {
   "cell_type": "markdown",
   "metadata": {},
   "source": [
    "## Basic Example: How to make a PointCharge 'by hand'\n",
    "\n",
    "The most basic way to create a new variable of the type you've just defined is to call the datatype with parentheses.  This *instances* the datatype, in other words, it creates a new variable which has that structure.\n",
    "\n",
    "In the example below, variables `Q1, Q2,` and `Q3` are created using the `PointCharge` class.  When each instance is created, we feed it an initial x, y, and q value, since we included the machinery in the `__init__` function above to take three inputs and assign these to the internal values of `x, y,` and `q`.  This sets the new charges' locations and magnitudes."
   ]
  },
  {
   "cell_type": "code",
   "execution_count": 4,
   "metadata": {},
   "outputs": [],
   "source": [
    "\n",
    "######################################################    \n",
    "# Example of how to create new PointCharges. \n",
    "Q1 = PointCharge( 0.0, 0.0, 1.0)\n",
    "Q2 = PointCharge( 0.2, 0.2, 1.0)\n",
    "Q3 = PointCharge( 0.3, 0.5, -2.5)\n",
    "######################################################\n",
    "\n",
    "# We now have 3 charges created, Q1, Q2, and Q3."
   ]
  },
  {
   "cell_type": "markdown",
   "metadata": {},
   "source": [
    "### You can also set these internal values at any later time.  \n",
    "\n",
    "To set the value of an internal variable of a class instance, you use the *period*, `.`, to indicate which **member variable** of the class instance that you are referring to.  This can be used both to extract its value (e.g. `print(Q1.x)`) and to store a value in that member variable, as shown below."
   ]
  },
  {
   "cell_type": "code",
   "execution_count": 5,
   "metadata": {},
   "outputs": [],
   "source": [
    "Q1.x, Q1.y = (14.0,15.0)  #Set the position\n",
    "Q1.q = -0.010   # Set the charge\n",
    "  "
   ]
  },
  {
   "cell_type": "code",
   "execution_count": null,
   "metadata": {},
   "outputs": [],
   "source": []
  },
  {
   "cell_type": "code",
   "execution_count": null,
   "metadata": {},
   "outputs": [],
   "source": []
  },
  {
   "cell_type": "markdown",
   "metadata": {},
   "source": [
    "---"
   ]
  },
  {
   "cell_type": "markdown",
   "metadata": {},
   "source": [
    "# Foray 1. Model and study the Electrostatic Dipole\n",
    "\n",
    "An electrostatic dipole consists of two equal and opposite charges placed near to each other.  If each charge has a magnitude Q and they are separated by a distance d, then the dipole moment points from the negative to the positive charge; it is defined as $\\vec{p}=Q\\vec{d}$  where we take the displacement vector $\\vec{d}$ to point from the negative to the positive charge. (This standard is used because in nature, dipoles align themselves to point in the same direction of an external electric field.)  \n",
    "\n",
    " - **Define an electric dipole** by creating two PointCharges with equal and opposite unit charge in the cell below.  Set them up so that they have equal `x=0` coordinates but are located at `y = -5` and `+5` mm respectively.  With this setup, the origin should be at exactly the midpoint between them, and the x-axis should be the line of symmetry between them.  In other words, the x-axis will go through the midpoint between the charges and has a direction perpendicular to the dipole moment $\\vec{p}$.\n",
    "\n",
    "\n"
   ]
  },
  {
   "cell_type": "code",
   "execution_count": 6,
   "metadata": {},
   "outputs": [],
   "source": [
    "q1 = PointCharge(0, 0.005, 0.001)\n",
    "q2 = PointCharge(0, -0.005, 0.001)"
   ]
  },
  {
   "cell_type": "markdown",
   "metadata": {},
   "source": [
    " - Now that you have your dipole created, they will cause an electric potential at every point in space as well as an electric field.  To calculate the electric potential and field due to our dipole, we must first set up a **coordinate grid** on which to perform our calculation.  Using a computer, we can only calculate at discrete points in space.  The `mgrid` command below defines those points.  It takes the following form:\n",
    "\n",
    "`\n",
    "numpy.mgrid[ xstart:xend:xstep,  ystart:yend:ystep]\n",
    "`\n",
    "\n",
    "Where the start, end and step in each direction are in physical units of distance needed for the simulation.\n",
    "\n",
    "The result of the `mgrid` command is two 2D arrays that each simply contain coordinate values (x values, and y values, respectively) and contain these values for the entire grid of points in space over which we must calculate, from the starting value to the stopping value specified.\n",
    "\n",
    "These arrays of coordinate values are necessary to plot a surface (2D function) or vectors or contours, as well as calculate potentials and fields.\n",
    "\n",
    "**Avoiding division by zero**. Notice that we add a very small increment to the final array so that no points in the grid will cause division by zero if a charge happens to be exactly on a grid point.\n",
    "\n",
    "- **Alter the mgrid command below** to span the distance from -1.0 meters to +1.0 meters in increments of 5 mm.  \n",
    "- One of your goals will be to *understand* what is contained in the coordsX and coordsY arrays.  We make the claim that these arrays contain x and y spatial positions, each in the form of a 2D array. \n",
    "- Print out `coordsX`,  then print out `coordsY`.  What do you notice about these arrays?  What do they contain and how are they structured?  Does this make sense?\n",
    "- **Explanation**: To simulate a field, we want to divide a region of space into a set of grid points.  So if you index the x coordinate arrays as (e.g.) `coordsX[i,j]`, then you get the spatial x position of that particular grid point.  \n",
    "- Which array index (i or j) corresponds to \"along the $\\hat{x}$ direction\" ?  What about \"along the $\\hat{y}$ direction\"? Print out a slice of each of these, e.g. `coordsX[:10,:10]`.  Try `coordsY[:,200]` and `coordsX[:,200]` and similar commands. Try `coordsX.shape`.  Figure it out!  \n"
   ]
  },
  {
   "cell_type": "code",
   "execution_count": 7,
   "metadata": {},
   "outputs": [
    {
     "name": "stdout",
     "output_type": "stream",
     "text": [
      "[[-0.9999999 -0.9999999 -0.9999999 ... -0.9999999 -0.9999999 -0.9999999]\n",
      " [-0.9994999 -0.9994999 -0.9994999 ... -0.9994999 -0.9994999 -0.9994999]\n",
      " [-0.9989999 -0.9989999 -0.9989999 ... -0.9989999 -0.9989999 -0.9989999]\n",
      " ...\n",
      " [ 1.0035001  1.0035001  1.0035001 ...  1.0035001  1.0035001  1.0035001]\n",
      " [ 1.0040001  1.0040001  1.0040001 ...  1.0040001  1.0040001  1.0040001]\n",
      " [ 1.0045001  1.0045001  1.0045001 ...  1.0045001  1.0045001  1.0045001]]\n",
      "[[-0.9999999 -0.9994999 -0.9989999 ...  1.0035001  1.0040001  1.0045001]\n",
      " [-0.9999999 -0.9994999 -0.9989999 ...  1.0035001  1.0040001  1.0045001]\n",
      " [-0.9999999 -0.9994999 -0.9989999 ...  1.0035001  1.0040001  1.0045001]\n",
      " ...\n",
      " [-0.9999999 -0.9994999 -0.9989999 ...  1.0035001  1.0040001  1.0045001]\n",
      " [-0.9999999 -0.9994999 -0.9989999 ...  1.0035001  1.0040001  1.0045001]\n",
      " [-0.9999999 -0.9994999 -0.9989999 ...  1.0035001  1.0040001  1.0045001]]\n",
      "-0.9994999000000001\n",
      "-0.9999999\n"
     ]
    }
   ],
   "source": [
    "\n",
    "## ***  YOU  ***  MUST CHANGE THESE COORDINATES TO MATCH WHAT *YOUR* SIMULATION REQUIRES!\n",
    "##  The coordinate grid below goes from -60 to +60 METERS in 2 meter increments.\n",
    "## THAT MIGHT NOT BE WHAT YOU NEED!\n",
    "coordsX, coordsY = np.mgrid[-1e3:1e3 + 5:0.5, -1e3:1e3+5:0.5] / 1e3 + 0.0000001\n",
    "print(coordsX)\n",
    "print(coordsY)\n",
    "\n",
    "print(coordsX[1,0]) ## hence 1st index is x\n",
    "print(coordsY[1,0]) ## second index is y"
   ]
  },
  {
   "cell_type": "markdown",
   "metadata": {},
   "source": [
    "### Now calculate the potential (scalar field) of the dipole\n",
    "\n",
    "- The example code below will calculate the electric potential V(x,y) that results from a charge configuration of your two charges (previously defined). \n",
    "\n",
    "(The potential calculation below doesn't need changing, just the list.  The calculation uses superposition and *simultaneously* finds the potential at each and every coordinate grid point during a single pass of the loop due to the current point charge being used -- and progressively adds up these contributions, loop by loop, charge by charge.  This is possible due to the vectorized nature of NumPy arrays; the coordinate grids `coordsX` and `coordsY` are NumPy arrays of coordinate values.)"
   ]
  },
  {
   "cell_type": "code",
   "execution_count": 8,
   "metadata": {},
   "outputs": [],
   "source": [
    "# Calculate the field from a list of charges\n",
    "\n",
    "#The easiest way to do this is to turn the point charges into a list.\n",
    "# Put YOUR charges in the list below instead of Q1 and Q2, if yours have a different name.\n",
    "chargelist = [q1, q2]\n",
    "\n",
    "#Now we can use  \"For Loop\"  (remember those?) to scroll through the list and add things up.\n",
    "\n",
    "V = np.zeros_like(coordsX)  #Initially we start with a zero field with the same dimensions as our coordinate grids.\n",
    "\n",
    "# Coulomb's constant\n",
    "epsilon_0 = 8.854187e-12\n",
    "k = 1/(4*np.pi*epsilon_0)\n",
    "\n",
    "\n",
    "#   NOW LOOP THROUGH THE LIST AND CALCULATE POTENTIAL\n",
    "# (\" for each charge in the list... do this calculation\")\n",
    "for charge in chargelist:\n",
    "    V = V + charge.q / np.sqrt((charge.x-coordsX)**2 + (charge.y-coordsY)**2)\n",
    "\n",
    "# Rescale everything by Coulomb's constant.  We DO NOT want to put it in the calculation\n",
    "# above to avoid accumulating floating-point errors!  Scaling by a small constant should\n",
    "# always be done in a separate step after.\n",
    "V = k*V"
   ]
  },
  {
   "cell_type": "markdown",
   "metadata": {},
   "source": [
    "### Now, plot the potential along the y axis due to this dipole.\n",
    "\n",
    "You've calculated the potential.  Now you need to see what it looks like.  One way to do this is to pick a path in space and plot the potential along that path.\n",
    "\n",
    "Your goal here is to plot the potential along the `y` axis, which is anti-aligned with the dipole moment $\\vec{p}$.  You will need to utilize array slicing to take the correct slice of the `V` potential field.  You will need to inspect/examine your `coordX` and `coordY` coordinate grids to find the right slice. This is your first challenge."
   ]
  },
  {
   "cell_type": "code",
   "execution_count": 9,
   "metadata": {},
   "outputs": [
    {
     "data": {
      "image/png": "[encoded data removed]",
      "text/plain": [
       "<Figure size 640x480 with 1 Axes>"
      ]
     },
     "metadata": {},
     "output_type": "display_data"
    }
   ],
   "source": [
    "plt.plot(coordsY[2000,:],V[2000,:])\n",
    "plt.ylabel(\"V (V)\")\n",
    "plt.xlabel(\"y (m)\")\n",
    "plt.show()"
   ]
  },
  {
   "cell_type": "code",
   "execution_count": null,
   "metadata": {},
   "outputs": [],
   "source": []
  },
  {
   "cell_type": "markdown",
   "metadata": {
    "tags": []
   },
   "source": [
    "## Finding $p$ from a curve fit to potential along the y direction\n",
    "\n",
    "The electrostatic potential due to a dipole with dipole moment $\\vec{p}$ will have the following value:\n",
    "\n",
    "$$ V(\\vec{r}) = \\frac{1}{4\\pi\\epsilon_0}\\,\\frac{\\vec{p}\\cdot\\hat{r}}{r^2}$$\n",
    "\n",
    "Show that this theory matches up with your calculation of the potential from the two point charges:\n",
    "\n",
    " - Taking $\\vec{r} = \\vec{y}$ and given that $\\vec{p} = (0,p)$ for your dipole (possibly with a negative sign out front, given which direction it points), simplify the above expression and write down what the magnitude of the potential should be along the `y` axis.\n"
   ]
  },
  {
   "cell_type": "markdown",
   "metadata": {},
   "source": [
    "### Answer here (markdown cell)\n",
    "$$\n",
    "\\begin{align}\n",
    "    \\vec{r} &= \\vec{y}\\text{, }\\vec{p}=(0,p)\\implies\\vec{p}\\cdot\\hat{r} = \\frac{p\\times y}{r}\\\\\n",
    "    &\\implies V(\\vec{y}) = \\frac{1}{4\\pi\\varepsilon_0}\\frac{p\\times y}{r^3}\n",
    "\\end{align}\n",
    "$$\n",
    "Since $\\vec{r} = \\vec{y} \\implies r = y$,\n",
    "$$\n",
    "V(\\vec{y}) = \\frac{1}{4\\pi\\varepsilon_0}\\frac{p}{y^2}\n",
    "$$"
   ]
  },
  {
   "cell_type": "markdown",
   "metadata": {},
   "source": [
    " \n",
    " #### Regime of the fit\n",
    " \n",
    " The *dipole potential* above only \"works\" far enough away from the two charges that create the dipole.  It assumes that the dipole is idealized and \"point-like\", viz, that the equal and opposite charges are extremely close together.  Therefore, the fit you will do below must respect this assumption.  You should perform a fit only (e.g.) for positive `y` values that don't take you too near to the charges.  **So e.g. `y` $\\ge$ 20 mm would probably be reasonable.**\n",
    " \n",
    " - Let's assume we **don't know** $\\vec{p}$ and want to determine it.  If you fold the relevant component of $\\vec{p}$ and $1/(4\\pi\\epsilon_0)$ into a general parameter that we'll call \"A\", we can do a curve fit to find the exact value of $A$ and hence, by extension, of the dipole moment.  Define this function below.  It should be intended to calculate the potential for a value of x and a potential V at any x position as input, when given the constant A.  Refer to the `scipy.optimize.curve_fit()` routine to fit your function to the calculated potential.\n",
    "\n",
    "To refresh your memory, here is the reference documentation for the `curve_fit()` routine:\n",
    "\n",
    "https://docs.scipy.org/doc/scipy/reference/generated/scipy.optimize.curve_fit.html\n",
    "\n",
    "Remember that there are two sets of outputs from this.  First, the array of best-fit parameters in the order specified, "
   ]
  },
  {
   "cell_type": "code",
   "execution_count": 10,
   "metadata": {},
   "outputs": [],
   "source": [
    "from scipy.optimize import curve_fit\n",
    "\n",
    "\n",
    "def fit_V( ypos, A ):\n",
    "    #Our function to fit is defined here\n",
    "    the_V = A / (ypos ** 2)\n",
    "    \n",
    "    return the_V\n",
    "\n",
    "#Now write the fitting command\n",
    "maskX = np.where(coordsX == 0.0000001)[0][0]\n",
    "mask = (maskX,coordsY[maskX,:] >= 0.02)\n",
    "params, covars = curve_fit(fit_V, coordsY[mask], V[mask])"
   ]
  },
  {
   "cell_type": "markdown",
   "metadata": {},
   "source": [
    "### Finally plot your modeled potential and your fit curve both together:"
   ]
  },
  {
   "cell_type": "code",
   "execution_count": 11,
   "metadata": {},
   "outputs": [
    {
     "data": {
      "image/png": "[encoded data removed]",
      "text/plain": [
       "<Figure size 640x480 with 1 Axes>"
      ]
     },
     "metadata": {},
     "output_type": "display_data"
    }
   ],
   "source": [
    "plt.plot(coordsY[mask], fit_V(coordsY[mask], params[0]))\n",
    "plt.plot(coordsY[mask], V[mask])\n",
    "plt.show()"
   ]
  },
  {
   "cell_type": "markdown",
   "metadata": {},
   "source": [
    "---\n",
    "\n",
    "# Activity 2:  Visualizing potentials and fields; automating charge creation\n",
    "\n",
    "- In this activity you'll create an arbitrary charge distribution with many charges, and visualize the resultant field.\n",
    "\n",
    "- You'll learn how to use a **list comprehension** to generate a python list with a single line of code.  This will let you generate a list containing an arbitrary number of charges!\n",
    "\n",
    "## Creating PointCharges using loops and lists.\n",
    "\n",
    "For \"real\" applications involving many charges (e.g. hundreds or thousands or millions), in practice we rarely would take the time to create and type in by hand a long list of charges.  That is far too much work, and we can use our coding skills to our advantage to define a list of charges automatically, and to set their member variables using a function!\n",
    "\n",
    "**Note:  a list of PointCharges will be a standard Python list, *not* a NumPy array.**\n",
    "\n",
    "NumPy arrays are intended and used *only* for floating point, integer, or complex data types.\n",
    "\n",
    "\n",
    "### Creating a list of charges using a list comprehension\n",
    "\n",
    "\n",
    "The cell below shows you how to use a *list comprehension* to define a list of charges automagically.  Then a separate function can iterate through each charge in that list, and set its position and charge according to any function you like.\n",
    "\n"
   ]
  },
  {
   "cell_type": "code",
   "execution_count": 12,
   "metadata": {},
   "outputs": [],
   "source": [
    "## BASIC EXAMPLE FOR HOW TO CREATE CHARGES IN A LIST AND DEFINE VALUES WITH A FUNCTION AND LOOP\n",
    "\n",
    "num_q = 35    #Number of charges\n",
    "\n",
    "#List comprehension makes a list of blank PointCharges\n",
    "# This combines a LOOP and a LIST together.  The square brackets indicate that\n",
    "# the outcome will be a Python List.\n",
    "chargelist = [ PointCharge(0.0, 0.0, 1.0) for i in range(num_q) ]   \n",
    "\n",
    "#This makes all charges default to the ORIGIN with unit charge 1.0"
   ]
  },
  {
   "cell_type": "markdown",
   "metadata": {},
   "source": [
    "### Now that you have a list of charges, use a function to set their positions and values!\n",
    "\n",
    "Using a simple loop (e.g. `for charge in chargelist:`) you can now set each charge's value and position according to a method of your choice, e.g. you can align them to grid points or using a mathematical function or similar.  Do this in the cell below."
   ]
  },
  {
   "cell_type": "code",
   "execution_count": 13,
   "metadata": {},
   "outputs": [],
   "source": [
    "# Create a function to set your charges and their positions\n",
    "def setup_charges(chargelist, w, h):\n",
    "    k = len(chargelist)\n",
    "    n = int(np.ceil(np.sqrt(k)))\n",
    "    m = n + 1\n",
    "    exes = np.linspace(0, w, n)\n",
    "    whys = np.linspace(0, h, m)\n",
    "    for i in range(k):\n",
    "        q = chargelist[i]\n",
    "        q.x = exes[i%n]\n",
    "        q.y = whys[(i - i%n) // n]"
   ]
  },
  {
   "cell_type": "code",
   "execution_count": null,
   "metadata": {},
   "outputs": [],
   "source": []
  },
  {
   "cell_type": "markdown",
   "metadata": {},
   "source": [
    "## Goal: create a custom charge configuration using a list of charges\n",
    "\n",
    "**We will then visualize the field this has set up in space.**\n",
    "\n",
    "- Think of a charge distribution -- some shape or arrangement of charges -- that you'd like to study today.\n",
    "- Create a new cell below and write code (referring to the example above) to create a set of charges to implement this charge distribution. (**You must must create more than 25 charges and they cannot be created using individual lines of code -- your code must utilize a loop and a list, a list comprehension, a function, list and loop, etc.**). \n",
    "- Set the **positions** and **charge values** of your charges to match your planned configuration.  Make sure that you choose physically realistic values.\n",
    "You can get as fancy as you like.  We will be calculating the field and potential produced by your charges.\n",
    "- Calculate the **potential** using the method we've already shown.\n",
    "\n",
    "### DOCUMENT YOUR PURPOSE AND WHAT YOU ARE DOING\n",
    "\n",
    "**You should create new cells and change their type to \"markdown\" and type in descriptions of what you are doing today.**\n",
    "\n"
   ]
  },
  {
   "cell_type": "markdown",
   "metadata": {},
   "source": [
    "# Purpose\n",
    "Investigate charge configuration in an arrangement using mandelbrot set. Recall the mandelbrot set is defined as the points\n",
    "\n",
    "$$\n",
    "\\mathfrak{M} = \\left\\{c \\in \\mathbb{C} \\;\\;\\text{s.t.}\\;\\; \\lim_{n\\rightarrow\\infty}z_n = 0\\right\\}\n",
    "$$\n",
    "Where $z_n$ is recursively defined as:\n",
    "$$\n",
    "\\begin{align}\n",
    "z_{n+1} &= z_n^2 + c\\\\\n",
    "z_0 &= 0\n",
    "\\end{align}\n",
    "$$\n",
    "We can discretise the limit in a computer, by picking some large $N$ and a small $\\varepsilon > 0$:\n",
    "$$\n",
    "\\mathfrak{M} = \\left\\{c \\in \\mathbb{C} \\;\\;\\text{s.t.}\\;\\; |z_n| \\le \\varepsilon \\;\\;\\forall n\\in\\left[0..N\\right]\\right\\}\n",
    "$$\n",
    "To find the boundary of our plot, we find the first $n_c$ for some $c$ for which $|z_{n_c}| > \\varepsilon$. That is: the critical $n$ for which a given $c$ finally falls out of the threshold (and for which we assume that the limit diverges). Anything inside of our mandelbrot set will have $n_c = N$ in our discrete case, and points at or near the boundary we can assume to be $s \\pm \\upsilon$ steps from our 'limit'. That is to say, points in the boundary are the set:\n",
    "$$\n",
    "\\mathfrak{B} = \\left\\{c \\in \\mathbb{C} \\;\\;\\text{s.t.}\\;\\; N - (s - \\upsilon) \\ge n_c \\ge N - (s + \\upsilon)\\right\\}\n",
    "$$\n",
    "\n",
    "All positions $\\vec{r}_q$ for charges $q \\in \\mathfrak{C}$, where $\\mathfrak{C}$ is the set of all charges are in this example $\\vec{r}_q \\in \\mathbb{R}^2$. Since $\\mathbb{R}^2 \\simeq \\mathbb{C}$, we can define each position as a point in the complex plane $c_q$:\n",
    "$$\n",
    "\\vec{r}_q = \\begin{bmatrix}\n",
    "x\\\\\n",
    "y\n",
    "\\end{bmatrix} \\implies c_q = x + \\mathfrak{i}y\n",
    "$$\n",
    "If we discretise our domain of possible positions to be a very detailed meshgrid, and find $k$ positions which satisfy the condition to be part of the $\\mathfrak{B}$ set (and hence form the discrete version of this set, $\\mathcal{B}$), by choosing a suitable $s$ so $k = |\n",
    "\\mathcal{B}| \\approx \\alpha |\\mathcal{R}|$ where $\\alpha \\in \\mathbb{Z}^+$, and $\\mathcal{R} \\simeq \\mathcal{C}$ is our set of the charges positions (in cartesian and complex coordinates respectively). We can  then assign the positions $\\forall c \\in \\mathcal{C}$ as follows:\n",
    "$$\n",
    "c_{i} = \\sigma\\left(\\mathcal{B}\\right)_{i\\alpha}\n",
    "$$\n",
    "Where $\\sigma$ represents some arbitrary permutation of $\\mathcal{B}$ and $\\sigma_{i}$ is the ith index in the permutation. Since we control the number of charges, notice that it is easier to choose an appropriate $|\\mathcal{R}|$ above to minimise $k - \\alpha|\\mathcal{R}|$, which is what I will do."
   ]
  },
  {
   "cell_type": "code",
   "execution_count": 119,
   "metadata": {},
   "outputs": [],
   "source": [
    "# 'mandelbrot order' returns n_c for a given c passed in:\n",
    "def mandelbrot_order(c, eps, N):\n",
    "    z = 0\n",
    "    n = 0\n",
    "    while abs(z) < eps and n < N:\n",
    "        z = z*z + c\n",
    "        n += 1\n",
    "    return n\n",
    "# numpy matrix version\n",
    "def grid_mandelbrot_order(grid, eps, N):\n",
    "    # def gmo_helper(cc, \n",
    "    # for each point in grid:\n",
    "    # run mandelbrot order\n",
    "    xx, yy = grid\n",
    "    cc = np.vectorize(complex)(xx, yy)\n",
    "    # zz = np.zeros_like(xx)\n",
    "    return (cc, np.vectorize(mandelbrot_order, excluded=[\"eps\",\"N\"])(cc, eps, N))"
   ]
  },
  {
   "cell_type": "code",
   "execution_count": 118,
   "metadata": {},
   "outputs": [
    {
     "name": "stdout",
     "output_type": "stream",
     "text": [
      "3260\n"
     ]
    },
    {
     "data": {
      "image/png": "[encoded data removed]",
      "text/plain": [
       "<Figure size 640x480 with 1 Axes>"
      ]
     },
     "metadata": {},
     "output_type": "display_data"
    }
   ],
   "source": [
    "# returns boundary (in complex plane coords)\n",
    "# I played around with the values of N, s and ups,\n",
    "# until i got a nice boundary\n",
    "def get_boundary(N=350, s=150, ups=70, Nx=1000, Ny=1000):\n",
    "    grid = np.meshgrid(np.linspace(-2,0.5,Nx), np.linspace(-1,1,Ny))\n",
    "    cc, morder = grid_mandelbrot_order(grid, 2, N)\n",
    "    return cc[(N - (s-ups) >= morder) & (morder >= N - (s+ups))]\n",
    "# convert to cartesian\n",
    "def get_cart_boundary():\n",
    "    bcc = get_boundary()\n",
    "    return np.real(bcc), np.imag(bcc)\n",
    "\n",
    "boundxs, boundys = get_cart_boundary()\n",
    "k = boundxs.size\n",
    "print(k)\n",
    "# The beautiful boundary of mandelbrot set!\n",
    "plt.scatter(*get_cart_boundary(),marker='.')\n",
    "plt.show()"
   ]
  },
  {
   "cell_type": "code",
   "execution_count": 124,
   "metadata": {},
   "outputs": [],
   "source": [
    "# notice 163 divides 3260 (k for default function values above) perfectly.\n",
    "alpha = k // 163\n",
    "mycharges = [PointCharge(boundxs[alpha * i],boundys[alpha * i],1) for i in range(163)]"
   ]
  },
  {
   "cell_type": "code",
   "execution_count": null,
   "metadata": {},
   "outputs": [],
   "source": []
  },
  {
   "cell_type": "markdown",
   "metadata": {
    "tags": []
   },
   "source": [
    "## 3. Plot contours of the field\n",
    "\n",
    "Below we use the \"contour\" command to plot equal-value contours of the field.\n",
    "\n",
    "**Notice that there are user-defined custom contour values**.  This specifies exactly which potentials get plotted as contours!  **YOU need to change these values to match the contours your own potential field produces** to enable sensible contours to be depicted.\n",
    "\n",
    "If you find that your coordinate grid is too grainy to get smooth potentials, you should make a better or finer coordinate grid.  Likewise if the potentials defined below do not work you will have to change them in order to come up with a contour plot that accurately and completely shows the shape of your Electric potential.\n"
   ]
  },
  {
   "cell_type": "code",
   "execution_count": 73,
   "metadata": {},
   "outputs": [
    {
     "data": {
      "image/png": "[encoded data removed]",
      "text/plain": [
       "<Figure size 1280x960 with 1 Axes>"
      ]
     },
     "metadata": {},
     "output_type": "display_data"
    }
   ],
   "source": [
    "# the contour command creates a contour plot.  We specify \n",
    "#  that we are using our x and y coordinate system, the values V of the field,\n",
    "# and we want custom-defined contour levels:\n",
    "\n",
    "#DEFINE the potential levels you need for your charge configuration to visualize it well!\n",
    "# Change these contour values to match YOUR potential field and provide sensible contours!\n",
    "levels = [-10.,-1.0,-0.4,-0.25,-0.2,-0.15,-0.1,-0.05,-0.01,0.01,0.05,0.1,0.15,0.2,0.25,0.4,1.0,10.0]\n",
    "\n",
    "bigplot()  #Make a big plot\n",
    "mycontours = plt.contour(coordsX,coordsY,V, levels, colors='k')  # 'k' makes it all black. Other colors annoy.\n",
    "\n",
    "# Contours are not much good unless you label them.  \n",
    "# the following statement labels them:\n",
    "plt.clabel(mycontours)\n",
    "\n",
    "# Now show it.\n",
    "plt.show()"
   ]
  },
  {
   "cell_type": "code",
   "execution_count": null,
   "metadata": {},
   "outputs": [],
   "source": []
  },
  {
   "cell_type": "code",
   "execution_count": null,
   "metadata": {},
   "outputs": [],
   "source": []
  },
  {
   "cell_type": "markdown",
   "metadata": {},
   "source": [
    "## 4. Plot the Electric Field\n",
    "\n",
    "Let's obtain a vector field which is the negative gradient of the scalar field we've already calculated."
   ]
  },
  {
   "cell_type": "code",
   "execution_count": null,
   "metadata": {},
   "outputs": [],
   "source": [
    "# It is as simple as this.\n",
    "Ex, Ey = n.gradient(V)\n",
    "# We take the negative separately since NumPy doesn't like to do it with the gradient statement all at once.\n",
    "Ex = -Ex\n",
    "Ey = -Ey\n"
   ]
  },
  {
   "cell_type": "code",
   "execution_count": null,
   "metadata": {},
   "outputs": [],
   "source": [
    "Ex.max()"
   ]
  },
  {
   "cell_type": "code",
   "execution_count": null,
   "metadata": {},
   "outputs": [],
   "source": [
    "Ey.max()"
   ]
  },
  {
   "cell_type": "markdown",
   "metadata": {},
   "source": [
    "##  Mask out certain vectors so they are not plotted!\n",
    "\n",
    "**Array masking** tells NumPy to \"ignore\" those particular entries in an array.  This can be quite useful to narrow your scrutiny of some data.\n",
    "\n",
    "**Why would we ever do that??**\n",
    "\n",
    "Near to your charges, the electric field becomes very large.  The field vectors would become far longer than any other vectors on the plot, and you would see an unreadable \"tangle\" of enormous vectors jumbled together.  We found the max() value of the components of the electric field so that we know how long the biggest vectors will be.  \n",
    "\n",
    "**The statements below create two new Electric Field matrices in which elements that are outside the specified range (viz, smaller than -2 and bigger than +2) are masked out**.  This means that NumPy will ignore those entries and not plot the corresponding vectors, leaving a nice tidy field plot that is actually readable.\n",
    "\n",
    "For your particular charge configuration you should alter the mask range to be optimal for your vector plot."
   ]
  },
  {
   "cell_type": "code",
   "execution_count": null,
   "metadata": {},
   "outputs": [],
   "source": [
    "Exx = n.ma.masked_outside(Ex, -0.1,0.1)\n",
    "Eyy = n.ma.masked_outside(Ey, -0.1,0.1)\n"
   ]
  },
  {
   "cell_type": "code",
   "execution_count": null,
   "metadata": {},
   "outputs": [],
   "source": [
    "# Now plot the (Ex, Ey) vector field!\n",
    "# This is the \"Quiver()\" command in matplotlib.pyplot:\n",
    "bigplot()\n",
    "p.quiver(x,y,Exx,Eyy, angles='xy', scale = 3)\n",
    "p.show()"
   ]
  },
  {
   "cell_type": "markdown",
   "metadata": {},
   "source": [
    "* What direction to the vectors point?  Explain or describe the reason for this in the context of the shape of your 3D plots."
   ]
  },
  {
   "cell_type": "markdown",
   "metadata": {},
   "source": [
    "## 5.  Plot a surface plot of the electric potential\n"
   ]
  },
  {
   "cell_type": "code",
   "execution_count": null,
   "metadata": {},
   "outputs": [],
   "source": [
    "# Plotting a 3D plot is a bit more involved.\n",
    " \n",
    "# Color mapping\n",
    "from matplotlib import cm\n",
    "\n",
    "# First we set up a new figure, and we define\n",
    "# a new 3D axes object upon which the plot will \n",
    "# be drawn.\n",
    "fig = p.figure(dpi = 220)  #Make a new, big figure\n",
    "ax = fig.gca(projection='3d')\n",
    "\n",
    "#Plot the surface\n",
    "surf = ax.plot_surface(x, y, V, cmap=cm.coolwarm, linewidth=0, antialiased=True)\n"
   ]
  },
  {
   "cell_type": "markdown",
   "metadata": {},
   "source": [
    "## 5. Questions\n",
    "\n",
    "* What is the relationship between the direction of electric field vectors and the direction and shape of the potential contours?  There is a very beautiful relationship between the contours and the electric field direction.  You may want to superimpose contour plots and quiver plots to see the two together and investigate."
   ]
  },
  {
   "cell_type": "code",
   "execution_count": null,
   "metadata": {},
   "outputs": [],
   "source": [
    "# We can OVERLAY PLOTS TOO!\n",
    "\n",
    "# Make a contour plot to visualize the scalar field\n",
    "p.contour(x,y,V,levels, colors=\"k\")\n",
    "# And a quiver plot shows the vector field we derived from its gradient!!\n",
    "p.quiver(x,y,Exx,Eyy)\n",
    "\n",
    "# Show\n",
    "p.show()"
   ]
  },
  {
   "cell_type": "markdown",
   "metadata": {
    "tags": []
   },
   "source": [
    "## 6. Plot cross sections through your potential\n",
    "\n",
    "As you found out in the first activity, your electric potential `V` is represented as a matrix of values covering a region of space that has been divided into grid points. Your `coordsX` and `coordsY` coordinate matrices are simply repeated rows or columns of the x and y positions at each coordinate point (and the computer uses these to do calculations).\n",
    "\n",
    "Create a simple plot  (viz, `plot.plot( ...)` ) showing a cross section of the potential along one direction through your potential field.  Then do a `for` loop and create a plot of many cross sections through your field, all on the same graph.  You should see some rather excellent curves show up.  \n",
    "\n",
    "Your instructors will be around to assist as you run into snags."
   ]
  },
  {
   "cell_type": "code",
   "execution_count": null,
   "metadata": {},
   "outputs": [],
   "source": []
  }
 ],
 "metadata": {
  "kernelspec": {
   "display_name": "Python 3 (ipykernel)",
   "language": "python",
   "name": "python3"
  },
  "language_info": {
   "codemirror_mode": {
    "name": "ipython",
    "version": 3
   },
   "file_extension": ".py",
   "mimetype": "text/x-python",
   "name": "python",
   "nbconvert_exporter": "python",
   "pygments_lexer": "ipython3",
   "version": "3.12.5"
  }
 },
 "nbformat": 4,
 "nbformat_minor": 4
}
